{
 "cells": [
  {
   "cell_type": "code",
   "execution_count": null,
   "metadata": {},
   "outputs": [],
   "source": [
    "import importlib, os, sys\n",
    "import numpy as np\n",
    "from scipy.interpolate import interp1d as interp1d\n",
    "import datetime\n",
    "\n",
    "# Go one level up and add it to sys.path such that DarkAges can be found.\n",
    "darkpath = os.path.dirname(os.path.abspath(os.curdir))\n",
    "sys.path.insert(1,darkpath)\n",
    "sys.path.insert(1,'/mnt/c/Linux/ExoCLASS_DMwEL/DarkAgesModule')\n",
    "sys.path.insert(1,'/mnt/c/Linux/ExoCLASS_DMwEL/DarkAgesModule/DarkAges')\n",
    "#C:\\LinuxExoCLASS_DMwEL/DarkAgesModule/bin\n",
    "#from DarkAges.evaporator import PBH_F_of_M as F_of_M\n",
    "#from DarkAges.evaporator import get_temperature_from_mass, get_mass_from_temperature\n",
    "\n",
    "%matplotlib inline\n",
    "import matplotlib.pyplot as plt\n",
    "from math import pi\n",
    "import matplotlib\n",
    "from matplotlib import ticker\n",
    "from mpl_toolkits.axes_grid1 import host_subplot\n",
    "import mpl_toolkits.axisartist as AA\n",
    "\n",
    "plt.rc('text', usetex=True)\n",
    "#plt.rc('text.latex', unicode=True)\n",
    "plt.rc('font', family='sans serif')\n",
    "\n",
    "pgf_with_custom_preamble = {\n",
    "\t\"font.family\": \"sans serif\",\n",
    "\t\"text.usetex\": True,\n",
    "\t\"text.latex.unicode\": True,\n",
    "\t\"pgf.rcfonts\": False\n",
    "}\n",
    "\n",
    "channelIndex = ['Heat','H-Ion']\n"
   ]
  },
  {
   "cell_type": "code",
   "execution_count": null,
   "metadata": {},
   "outputs": [],
   "source": [
    "# import classy module\n",
    "from classy import Class\n",
    "from DarkAges import transfer_functions\n",
    "from DarkAges.model import dmwel_model #as model\n",
    "from DarkAges.model import create_f_dmwel\n",
    "from DarkAges.transfer import transfer_combine\n",
    "from DarkAges.__init__ import channel_dict\n",
    "from DarkAges.common import finalize\n",
    "# as can be seen from definition __init__.channel_dict, defintion of function common.finalize\n",
    "    # and use of finalize in recipes.py, the following from channel_dict are the indices in f_function\n",
    "#'H-Ion': 0,\n",
    "#\t'He-Ion': 1,\n",
    "#\t'Ly-A': 2,\n",
    "#\t'Heat': 3,\n",
    "#\t'LowE': 4\n",
    "        \n",
    "total_transfer = transfer_combine(*transfer_functions)"
   ]
  },
  {
   "cell_type": "code",
   "execution_count": null,
   "metadata": {},
   "outputs": [],
   "source": [
    "###### create instance of the class \"Class\"\n",
    "PDGPl18 = Class()\n",
    "# pass input parameters - the omegas are from PDG18 and the rest from Planck 2018\n",
    "PDGPl18.set({'omega_b':0.02242,'omega_cdm':0.11933,'h':0.6766,'A_s':2.105e-9,'n_s':0.9665,'tau_reio':0.0561})\n",
    "PDGPl18.set({'output':'tCl,pCl,lCl,mPk','lensing':'yes','P_k_max_1/Mpc':3.0})\n",
    "# run class\n",
    "PDGPl18.compute()"
   ]
  },
  {
   "cell_type": "code",
   "execution_count": null,
   "metadata": {},
   "outputs": [],
   "source": [
    "# get all C_l output\n",
    "cls = PDGPl18.lensed_cl(2500)\n",
    "# To check the format of cls\n",
    "cls.keys() #need to change original 'dictkeys' to 'keys' for python3 compatibility"
   ]
  },
  {
   "cell_type": "code",
   "execution_count": null,
   "metadata": {
    "scrolled": true
   },
   "outputs": [],
   "source": [
    "create_f_dmwel()"
   ]
  },
  {
   "cell_type": "code",
   "execution_count": null,
   "metadata": {},
   "outputs": [],
   "source": [
    "rs = np.geomspace(11.918400, 2747.970000, num=63)  #np.arange(1.,2501.,1.)\n",
    "xepre = PDGPl18.ionization_fraction\n",
    "xe = np.ones_like(rs)\n",
    "for idx,redshift in enumerate(rs):\n",
    "    xe[idx] = xepre(redshift)"
   ]
  },
  {
   "cell_type": "code",
   "execution_count": null,
   "metadata": {},
   "outputs": [],
   "source": [
    "# plot xe\n",
    "plt.figure(1)\n",
    "plt.xscale('log');plt.yscale('log');plt.xlim(300,1200)\n",
    "plt.xlabel(r'$z$')\n",
    "plt.ylabel(r'$x_\\mathrm{e}(z)$')\n",
    "plt.plot(rs,xe,'g-')"
   ]
  },
  {
   "cell_type": "code",
   "execution_count": null,
   "metadata": {},
   "outputs": [],
   "source": [
    "GSVIxe=[0,0.0001,0.0003,0.0005,0.001,0.003,0.005,0.01,0.03,0.05,0.1,0.3,0.5,0.8,0.9,0.99,1.1,1.2]\n",
    "GSVIchi_ionH=[0.350798,0.350798,0.349058,0.345508,0.341822,0.327298,0.316798,0.301893,0.255925,0.228453,0.175739,0.083885,0.043901,0.013518,0.006406,0.0017,0,0]\n",
    "GSVIchi_heat=[0.1518,0.15188,0.174825,0.18852,0.210027,0.258912,0.289871,0.338316,0.458621,0.531628,0.654816,0.849031,0.923644,0.975679,0.987026,0.995299,1,1]"
   ]
  },
  {
   "cell_type": "code",
   "execution_count": null,
   "metadata": {},
   "outputs": [],
   "source": [
    "chi_ionH_fn=interp1d(GSVIxe,GSVIchi_ionH)\n",
    "chi_ionH = chi_ionH_fn(xe)\n",
    "chi_heat_fn=interp1d(GSVIxe,GSVIchi_heat)\n",
    "chi_heat = chi_heat_fn(xe)"
   ]
  },
  {
   "cell_type": "code",
   "execution_count": null,
   "metadata": {},
   "outputs": [],
   "source": [
    "# plot chi_ionH\n",
    "fig = plt.figure(1)\n",
    "ax = plt.subplot(111)\n",
    "plt.xscale('log');plt.yscale('linear');plt.xlim(300,1200);\n",
    "ax.set_ylim(-0.05,1.05)\n",
    "plt.xlabel(r'$1+z$')\n",
    "ax.plot(rs,chi_ionH,'b--',label='$\\chi_{\\mathrm{H\\!\\!-\\!\\!ion}}$')\n",
    "ax.plot(rs,chi_heat,'r--',label='$\\chi_\\mathrm{heat}$')\n",
    "ax.legend(loc='best')\n",
    "plt.savefig('GSVI_chi.pdf')"
   ]
  },
  {
   "cell_type": "code",
   "execution_count": null,
   "metadata": {},
   "outputs": [],
   "source": [
    "def data_header(filename,this_file,comment,labels):\n",
    "    now = datetime.datetime.now()\n",
    "    \n",
    "    fname = open(filename,'w+')\n",
    "    fname.write('(@@\\n{{\"%s/%s\",\"%s\"},\"%s\"}\\n@@)\\n\\n(<<\\n{'%(os.path.abspath(os.curdir),this_file,now.strftime(\"%Y-%m-%d--%H:%M:%S\"),comment))\n",
    "    \n",
    "    for i in range(len(labels)-1):\n",
    "        fname.write('\\\"%s\\\",'%labels[i])\n",
    "    fname.write('\\\"%s\\\"}\\n>>)\\n\\n(::\\n{\\n'%labels[-1])\n",
    "    \n",
    "    return(fname)\n",
    "\n",
    "def arraywrite_2f(fname,a):\n",
    "    fname.write('{')\n",
    "    for i in range(len(a)-1):\n",
    "        fname.write('{') \n",
    "        for j in range(len(a[i])-1):\n",
    "            fname.write('%.10f,'%a[i,j])\n",
    "        fname.write('%.10f},\\n'%a[i,-1])\n",
    "    fname.write('{')\n",
    "    for j in range(len(a[-1])-1):\n",
    "        fname.write('%.10f,'%a[-1,j])\n",
    "    fname.write('%.10f}}'%a[-1,-1])\n",
    "    \n",
    "def arraywrite_3f(fname,a):\n",
    "    fname.write('\\n{\\n')\n",
    "    for i in range(len(a)-1):\n",
    "        arraywrite_2f(fname,a[i])\n",
    "        fname.write(',')\n",
    "    arraywrite_2f(fname,a[-1])\n",
    "    fname.write('\\n}\\n')\n",
    "    \n",
    "def data_footer(fname):\n",
    "    fname.write('\\n}\\n::)')\n",
    "    fname.close()"
   ]
  },
  {
   "cell_type": "markdown",
   "metadata": {},
   "source": [
    "For some reason when running the whole sheet, it often hangs on the next cell.  Alternative is to go to the cell below \"Run All Above\" and then manually run the cells below.  Googling suggests this is a Jupyter bug."
   ]
  },
  {
   "cell_type": "code",
   "execution_count": null,
   "metadata": {},
   "outputs": [],
   "source": [
    "GSVI_chi = np.zeros((3,len(rs)))\n",
    "GSVI_chi[0] = rs\n",
    "GSVI_chi[1] = chi_heat\n",
    "GSVI_chi[2] = chi_ionH"
   ]
  },
  {
   "cell_type": "code",
   "execution_count": null,
   "metadata": {},
   "outputs": [],
   "source": [
    "log_energy_list = np.linspace(-2.,4.,7)\n",
    "\n",
    "dp_h = np.array([[0.0001,1.],[0.0001,2.],[0.001,10.],[0.001,20.],[0.01,100.],[0.01,200.]])\n",
    "dp_4 = np.transpose(np.array((1e-4 * np.ones((7)),10.**log_energy_list)))\n",
    "dp_3 = np.transpose(np.array((1e-3 * np.ones((7)),10.**log_energy_list)))\n",
    "dp_2 = np.transpose(np.array((1e-2 * np.ones((7)),10.**log_energy_list)))\n",
    "\n",
    "dmwel_parameter_set = np.concatenate((dp_h,dp_4,dp_3,dp_2))\n",
    "\n",
    "\n",
    "fname = data_header('dmwel_chi_and_fc.data','dmwel_chi_and_fc.ipynb','chi, dmwel parameters, and fc',['chi','parameters','fc'])\n",
    "fname.write('\\n')\n",
    "arraywrite_2f(fname,GSVI_chi)\n",
    "fname.write('\\n,\\n')\n",
    "\n",
    "arraywrite_2f(fname,dmwel_parameter_set)\n",
    "fname.write('\\n,\\n')\n",
    "\n",
    "for j,dmwel_para in enumerate(dmwel_parameter_set):\n",
    "    #print(j)\n",
    "    dmwel_alpha1 = dmwel_para[0]\n",
    "    dmwel_e1 = dmwel_para[1]\n",
    "    print('paras = {},{}'.format(dmwel_alpha1,dmwel_e1))\n",
    "    f_functions = np.zeros((1))\n",
    "    max_j = min(1000,np.floor(1000*np.sqrt(0.001/dmwel_alpha1)).astype(int))\n",
    "    print('max_j = {}'.format(max_j))\n",
    "    for i,channel in enumerate(channelIndex):\n",
    "        idx = channel_dict[channel]\n",
    "        #print(idx)\n",
    "        temporary = dmwel_model(dmwel_alpha1,dmwel_e1,max_j,redshift=rs).calc_f(transfer_functions[idx],E_integration_scheme = 'dmwel')\n",
    "        if f_functions.shape == (1,):\n",
    "            redshift = temporary[0]\n",
    "            f_functions = np.zeros((len(channelIndex),len(redshift)))\n",
    "        f_functions[i,:] = temporary[-1]\n",
    "    #print(redshift.shape)\n",
    "    #print(f_functions.shape)\n",
    "    \n",
    "    if j == 0:\n",
    "        dmwel_fc = np.zeros((len(dmwel_parameter_set),3,len(redshift)-1))\n",
    "    dmwel_fc[j,0,:] = redshift[:-1]\n",
    "    dmwel_fc[j,1,:] = f_functions[0,:-1]\n",
    "    dmwel_fc[j,2,:] = f_functions[1,:-1]\n",
    "#print(dmwel_fc)\n",
    "arraywrite_3f(fname,dmwel_fc)\n",
    "#fname.write('\\n}\\n')\n",
    "\n",
    "data_footer(fname)"
   ]
  },
  {
   "cell_type": "code",
   "execution_count": null,
   "metadata": {},
   "outputs": [],
   "source": [
    "print('Completed')"
   ]
  },
  {
   "cell_type": "code",
   "execution_count": null,
   "metadata": {},
   "outputs": [],
   "source": [
    "# optional: clear content of PDGPl18 (to reuse it for another model)\n",
    "PDGPl18.struct_cleanup()\n",
    "# optional: reset parameters to default\n",
    "PDGPl18.empty()"
   ]
  },
  {
   "cell_type": "code",
   "execution_count": null,
   "metadata": {},
   "outputs": [],
   "source": [
    "dmwel_model(dmwel_alpha1,dmwel_e1,max_j,redshift=rs).dmwel_f(0.001,10.,1)"
   ]
  },
  {
   "cell_type": "code",
   "execution_count": null,
   "metadata": {},
   "outputs": [],
   "source": []
  }
 ],
 "metadata": {
  "kernelspec": {
   "display_name": "Python 2",
   "language": "python",
   "name": "python2"
  },
  "language_info": {
   "codemirror_mode": {
    "name": "ipython",
    "version": 2
   },
   "file_extension": ".py",
   "mimetype": "text/x-python",
   "name": "python",
   "nbconvert_exporter": "python",
   "pygments_lexer": "ipython2",
   "version": "2.7.15+"
  }
 },
 "nbformat": 4,
 "nbformat_minor": 1
}
